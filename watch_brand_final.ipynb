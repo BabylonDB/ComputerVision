{
 "cells": [
  {
   "cell_type": "markdown",
   "id": "44ad3c0f",
   "metadata": {},
   "source": [
    "# Watch Brand Classification with CNN and Zero-Shot CLIP"
   ]
  },
  {
   "cell_type": "code",
   "execution_count": 31,
   "id": "648bed29",
   "metadata": {},
   "outputs": [],
   "source": [
    "# Imports\n",
    "import os\n",
    "import numpy as np\n",
    "import pandas as pd\n",
    "from sklearn.preprocessing import LabelEncoder\n",
    "from sklearn.model_selection import train_test_split\n",
    "from tensorflow.keras.utils import to_categorical, Sequence\n",
    "from tensorflow.keras.models import Sequential\n",
    "from tensorflow.keras.layers import Conv2D, MaxPooling2D, Flatten, Dense, Dropout\n",
    "import matplotlib.pyplot as plt\n",
    "import cv2\n",
    "from PIL import Image\n",
    "from transformers import pipeline\n"
   ]
  },
  {
   "cell_type": "code",
   "execution_count": 32,
   "id": "93a86b58",
   "metadata": {},
   "outputs": [],
   "source": [
    "# Load and clean metadata\n",
    "df = pd.read_csv(\"metadata.csv\")\n",
    "df = df[df[\"image_name\"].apply(lambda x: os.path.exists(os.path.join(\"images\", x)))]\n",
    "brand_counts = df[\"brand\"].value_counts()\n",
    "valid_brands = brand_counts[brand_counts >= 2].index\n",
    "df = df[df[\"brand\"].isin(valid_brands)].reset_index(drop=True)\n",
    "le = LabelEncoder()\n",
    "df[\"brand_encoded\"] = le.fit_transform(df[\"brand\"])\n"
   ]
  },
  {
   "cell_type": "code",
   "execution_count": 33,
   "id": "ef2f4119",
   "metadata": {},
   "outputs": [],
   "source": [
    "# Train/Validation split\n",
    "train_df, val_df = train_test_split(\n",
    "    df, test_size=0.2, stratify=df[\"brand_encoded\"], random_state=42\n",
    ")\n",
    "train_df.to_csv(\"train.csv\", index=False)\n",
    "val_df.to_csv(\"val.csv\", index=False)\n"
   ]
  },
  {
   "cell_type": "code",
   "execution_count": 34,
   "id": "54e01658",
   "metadata": {},
   "outputs": [
    {
     "name": "stdout",
     "output_type": "stream",
     "text": [
      "Number of classes: 64\n"
     ]
    }
   ],
   "source": [
    "# Number of classes\n",
    "num_classes = train_df[\"brand_encoded\"].nunique()\n",
    "print(\"Number of classes:\", num_classes)\n"
   ]
  },
  {
   "cell_type": "code",
   "execution_count": 35,
   "id": "3e136700",
   "metadata": {},
   "outputs": [],
   "source": [
    "# ImageDataGenerator using OpenCV\n",
    "class ImageDataGenerator(Sequence):\n",
    "    def __init__(self, df, image_folder, batch_size=32, img_size=(128, 128)):\n",
    "        self.df = df.reset_index(drop=True)\n",
    "        self.image_folder = image_folder\n",
    "        self.batch_size = batch_size\n",
    "        self.img_size = img_size\n",
    "        self.labels = df['brand_encoded'].values\n",
    "        self.image_names = df['image_name'].values\n",
    "\n",
    "    def __len__(self):\n",
    "        return int(np.ceil(len(self.df) / self.batch_size))\n",
    "\n",
    "    def __getitem__(self, idx):\n",
    "        batch_images = self.image_names[idx * self.batch_size : (idx + 1) * self.batch_size]\n",
    "        batch_labels = self.labels[idx * self.batch_size : (idx + 1) * self.batch_size]\n",
    "        images = []\n",
    "        for img_name in batch_images:\n",
    "            img_path = os.path.join(self.image_folder, img_name)\n",
    "            img = cv2.imread(img_path)\n",
    "            if img is not None:\n",
    "                img = cv2.resize(img, self.img_size) / 255.0\n",
    "                images.append(img)\n",
    "        images = np.array(images)\n",
    "        labels = to_categorical(batch_labels[:len(images)], num_classes=num_classes)\n",
    "        return images, labels\n"
   ]
  },
  {
   "cell_type": "code",
   "execution_count": 36,
   "id": "611d28ba",
   "metadata": {},
   "outputs": [],
   "source": [
    "# Initialize generators\n",
    "train_gen = ImageDataGenerator(train_df, image_folder=\"images\")\n",
    "val_gen = ImageDataGenerator(val_df, image_folder=\"images\")\n"
   ]
  },
  {
   "cell_type": "code",
   "execution_count": 37,
   "id": "b7450c51",
   "metadata": {},
   "outputs": [
    {
     "name": "stderr",
     "output_type": "stream",
     "text": [
      "/usr/local/python/3.12.1/lib/python3.12/site-packages/keras/src/layers/convolutional/base_conv.py:113: UserWarning: Do not pass an `input_shape`/`input_dim` argument to a layer. When using Sequential models, prefer using an `Input(shape)` object as the first layer in the model instead.\n",
      "  super().__init__(activity_regularizer=activity_regularizer, **kwargs)\n"
     ]
    }
   ],
   "source": [
    "# CNN model\n",
    "model = Sequential([\n",
    "    Conv2D(32, (3, 3), activation='relu', input_shape=(128, 128, 3)),\n",
    "    MaxPooling2D(),\n",
    "    Conv2D(64, (3, 3), activation='relu'),\n",
    "    MaxPooling2D(),\n",
    "    Flatten(),\n",
    "    Dense(128, activation='relu'),\n",
    "    Dropout(0.5),\n",
    "    Dense(num_classes, activation='softmax')\n",
    "])\n",
    "model.compile(optimizer='adam', loss='categorical_crossentropy', metrics=['accuracy'])\n"
   ]
  },
  {
   "cell_type": "code",
   "execution_count": 38,
   "id": "39d0d0db",
   "metadata": {},
   "outputs": [
    {
     "name": "stderr",
     "output_type": "stream",
     "text": [
      "/usr/local/python/3.12.1/lib/python3.12/site-packages/keras/src/trainers/data_adapters/py_dataset_adapter.py:121: UserWarning: Your `PyDataset` class should call `super().__init__(**kwargs)` in its constructor. `**kwargs` can include `workers`, `use_multiprocessing`, `max_queue_size`. Do not pass these arguments to `fit()`, as they will be ignored.\n",
      "  self._warn_if_super_not_called()\n"
     ]
    },
    {
     "name": "stdout",
     "output_type": "stream",
     "text": [
      "Epoch 1/10\n",
      "\u001b[1m64/64\u001b[0m \u001b[32m━━━━━━━━━━━━━━━━━━━━\u001b[0m\u001b[37m\u001b[0m \u001b[1m20s\u001b[0m 282ms/step - accuracy: 0.0494 - loss: 4.5818 - val_accuracy: 0.2490 - val_loss: 3.5137\n",
      "Epoch 2/10\n",
      "\u001b[1m64/64\u001b[0m \u001b[32m━━━━━━━━━━━━━━━━━━━━\u001b[0m\u001b[37m\u001b[0m \u001b[1m17s\u001b[0m 271ms/step - accuracy: 0.1947 - loss: 3.3703 - val_accuracy: 0.3863 - val_loss: 2.6012\n",
      "Epoch 3/10\n",
      "\u001b[1m64/64\u001b[0m \u001b[32m━━━━━━━━━━━━━━━━━━━━\u001b[0m\u001b[37m\u001b[0m \u001b[1m18s\u001b[0m 279ms/step - accuracy: 0.3581 - loss: 2.6173 - val_accuracy: 0.4941 - val_loss: 2.2325\n",
      "Epoch 4/10\n",
      "\u001b[1m64/64\u001b[0m \u001b[32m━━━━━━━━━━━━━━━━━━━━\u001b[0m\u001b[37m\u001b[0m \u001b[1m18s\u001b[0m 281ms/step - accuracy: 0.4483 - loss: 2.2164 - val_accuracy: 0.5882 - val_loss: 1.8026\n",
      "Epoch 5/10\n",
      "\u001b[1m64/64\u001b[0m \u001b[32m━━━━━━━━━━━━━━━━━━━━\u001b[0m\u001b[37m\u001b[0m \u001b[1m18s\u001b[0m 278ms/step - accuracy: 0.4973 - loss: 1.8808 - val_accuracy: 0.6294 - val_loss: 1.6260\n",
      "Epoch 6/10\n",
      "\u001b[1m64/64\u001b[0m \u001b[32m━━━━━━━━━━━━━━━━━━━━\u001b[0m\u001b[37m\u001b[0m \u001b[1m18s\u001b[0m 278ms/step - accuracy: 0.5509 - loss: 1.6438 - val_accuracy: 0.6412 - val_loss: 1.4946\n",
      "Epoch 7/10\n",
      "\u001b[1m64/64\u001b[0m \u001b[32m━━━━━━━━━━━━━━━━━━━━\u001b[0m\u001b[37m\u001b[0m \u001b[1m18s\u001b[0m 279ms/step - accuracy: 0.6176 - loss: 1.3713 - val_accuracy: 0.7078 - val_loss: 1.3323\n",
      "Epoch 8/10\n",
      "\u001b[1m64/64\u001b[0m \u001b[32m━━━━━━━━━━━━━━━━━━━━\u001b[0m\u001b[37m\u001b[0m \u001b[1m17s\u001b[0m 267ms/step - accuracy: 0.6303 - loss: 1.2975 - val_accuracy: 0.6941 - val_loss: 1.2670\n",
      "Epoch 9/10\n",
      "\u001b[1m64/64\u001b[0m \u001b[32m━━━━━━━━━━━━━━━━━━━━\u001b[0m\u001b[37m\u001b[0m \u001b[1m17s\u001b[0m 263ms/step - accuracy: 0.6796 - loss: 1.1331 - val_accuracy: 0.7412 - val_loss: 1.1303\n",
      "Epoch 10/10\n",
      "\u001b[1m64/64\u001b[0m \u001b[32m━━━━━━━━━━━━━━━━━━━━\u001b[0m\u001b[37m\u001b[0m \u001b[1m18s\u001b[0m 275ms/step - accuracy: 0.6840 - loss: 1.0525 - val_accuracy: 0.7294 - val_loss: 1.1397\n"
     ]
    }
   ],
   "source": [
    "# Train the model\n",
    "history = model.fit(train_gen, validation_data=val_gen, epochs=10)\n"
   ]
  },
  {
   "cell_type": "code",
   "execution_count": 39,
   "id": "63586447",
   "metadata": {},
   "outputs": [
    {
     "name": "stdout",
     "output_type": "stream",
     "text": [
      "\u001b[1m16/16\u001b[0m \u001b[32m━━━━━━━━━━━━━━━━━━━━\u001b[0m\u001b[37m\u001b[0m \u001b[1m2s\u001b[0m 106ms/step - accuracy: 0.7596 - loss: 1.1209\n",
      "Validation Accuracy: 72.94 %\n"
     ]
    },
    {
     "data": {
      "image/png": "[encoded data removed]",
      "text/plain": [
       "<Figure size 640x480 with 1 Axes>"
      ]
     },
     "metadata": {},
     "output_type": "display_data"
    }
   ],
   "source": [
    "# Evaluate and plot\n",
    "loss, acc = model.evaluate(val_gen)\n",
    "print(\"Validation Accuracy:\", round(acc * 100, 2), \"%\")\n",
    "\n",
    "plt.plot(history.history['accuracy'], label='Train Accuracy')\n",
    "plt.plot(history.history['val_accuracy'], label='Val Accuracy')\n",
    "plt.legend()\n",
    "plt.title(\"Training History\")\n",
    "plt.show()\n"
   ]
  },
  {
   "cell_type": "code",
   "execution_count": 40,
   "id": "d5e0642e",
   "metadata": {},
   "outputs": [
    {
     "name": "stderr",
     "output_type": "stream",
     "text": [
      "Device set to use cpu\n"
     ]
    }
   ],
   "source": [
    "# Zero-shot classification using CLIP\n",
    "zero_shot_detector = pipeline(model=\"openai/clip-vit-large-patch14\", task=\"zero-shot-image-classification\")\n"
   ]
  },
  {
   "cell_type": "code",
   "execution_count": 44,
   "id": "a654514a",
   "metadata": {},
   "outputs": [
    {
     "name": "stderr",
     "output_type": "stream",
     "text": [
      "WARNING:absl:The `save_format` argument is deprecated in Keras 3. We recommend removing this argument as it can be inferred from the file path. Received: save_format=h5\n",
      "WARNING:absl:You are saving your model as an HDF5 file via `model.save()` or `keras.saving.save_model(model)`. This file format is considered legacy. We recommend using instead the native Keras format, e.g. `model.save('my_model.keras')` or `keras.saving.save_model(model, 'my_model.keras')`. \n"
     ]
    }
   ],
   "source": [
    "model.save(\"watch_brand_classifier.h5\", save_format='h5')\n"
   ]
  },
  {
   "cell_type": "code",
   "execution_count": 42,
   "id": "06b081ea",
   "metadata": {},
   "outputs": [
    {
     "name": "stdout",
     "output_type": "stream",
     "text": [
      "True: Cluse, Predicted: Cluse, Score: 1.00\n",
      "True: Daniel Wellington, Predicted: Daniel Wellington, Score: 1.00\n",
      "True: Swatch, Predicted: Swatch, Score: 0.98\n",
      "True: VERSUS Versace, Predicted: Versace, Score: 0.57\n",
      "True: Nixon, Predicted: iConnect By Timex, Score: 0.95\n"
     ]
    }
   ],
   "source": [
    "# Run zero-shot on a few images\n",
    "candidate_labels = train_df['brand'].unique().tolist()\n",
    "sample_df = val_df.sample(5, random_state=42)\n",
    "\n",
    "for _, row in sample_df.iterrows():\n",
    "    img_path = os.path.join(\"images\", row[\"image_name\"])\n",
    "    image = Image.open(img_path).convert(\"RGB\")\n",
    "    result = zero_shot_detector(image, candidate_labels=candidate_labels)\n",
    "    print(f\"True: {row['brand']}, Predicted: {result[0]['label']}, Score: {result[0]['score']:.2f}\")\n"
   ]
  },
  {
   "cell_type": "code",
   "execution_count": 43,
   "id": "ec07c466",
   "metadata": {},
   "outputs": [
    {
     "name": "stdout",
     "output_type": "stream",
     "text": [
      "3.10.0\n"
     ]
    }
   ],
   "source": [
    "import keras\n",
    "print(keras.__version__)"
   ]
  }
 ],
 "metadata": {
  "kernelspec": {
   "display_name": "Python 3",
   "language": "python",
   "name": "python3"
  },
  "language_info": {
   "codemirror_mode": {
    "name": "ipython",
    "version": 3
   },
   "file_extension": ".py",
   "mimetype": "text/x-python",
   "name": "python",
   "nbconvert_exporter": "python",
   "pygments_lexer": "ipython3",
   "version": "3.12.1"
  }
 },
 "nbformat": 4,
 "nbformat_minor": 5
}
