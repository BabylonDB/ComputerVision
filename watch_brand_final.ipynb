{
 "cells": [
  {
   "cell_type": "markdown",
   "id": "44ad3c0f",
   "metadata": {},
   "source": [
    "# Watch Brand Classification with CNN and Zero-Shot CLIP"
   ]
  },
  {
   "cell_type": "markdown",
   "id": "8c0d8139",
   "metadata": {},
   "source": [
    "In diesem Abschnitt importiere ich alle Bibliotheken, die ich für mein Computer-Vision-Projekt benötige. Diese Imports bilden die Grundlage für mein Projekt, in dem ich Uhrenmarken auf Bildern klassifiziere und die Leistung meines Modells mit einem Zero-Shot-Modell vergleiche."
   ]
  },
  {
   "cell_type": "code",
   "execution_count": 6,
   "id": "648bed29",
   "metadata": {},
   "outputs": [
    {
     "name": "stderr",
     "output_type": "stream",
     "text": [
      "2025-06-02 14:14:28.148100: I tensorflow/core/util/port.cc:153] oneDNN custom operations are on. You may see slightly different numerical results due to floating-point round-off errors from different computation orders. To turn them off, set the environment variable `TF_ENABLE_ONEDNN_OPTS=0`.\n",
      "2025-06-02 14:14:28.175033: I external/local_xla/xla/tsl/cuda/cudart_stub.cc:32] Could not find cuda drivers on your machine, GPU will not be used.\n",
      "2025-06-02 14:14:28.432356: I external/local_xla/xla/tsl/cuda/cudart_stub.cc:32] Could not find cuda drivers on your machine, GPU will not be used.\n",
      "2025-06-02 14:14:28.584115: E external/local_xla/xla/stream_executor/cuda/cuda_fft.cc:467] Unable to register cuFFT factory: Attempting to register factory for plugin cuFFT when one has already been registered\n",
      "WARNING: All log messages before absl::InitializeLog() is called are written to STDERR\n",
      "E0000 00:00:1748873668.883425  121061 cuda_dnn.cc:8579] Unable to register cuDNN factory: Attempting to register factory for plugin cuDNN when one has already been registered\n",
      "E0000 00:00:1748873668.974951  121061 cuda_blas.cc:1407] Unable to register cuBLAS factory: Attempting to register factory for plugin cuBLAS when one has already been registered\n",
      "W0000 00:00:1748873669.629831  121061 computation_placer.cc:177] computation placer already registered. Please check linkage and avoid linking the same target more than once.\n",
      "W0000 00:00:1748873669.629866  121061 computation_placer.cc:177] computation placer already registered. Please check linkage and avoid linking the same target more than once.\n",
      "W0000 00:00:1748873669.629869  121061 computation_placer.cc:177] computation placer already registered. Please check linkage and avoid linking the same target more than once.\n",
      "W0000 00:00:1748873669.629872  121061 computation_placer.cc:177] computation placer already registered. Please check linkage and avoid linking the same target more than once.\n",
      "2025-06-02 14:14:29.682175: I tensorflow/core/platform/cpu_feature_guard.cc:210] This TensorFlow binary is optimized to use available CPU instructions in performance-critical operations.\n",
      "To enable the following instructions: AVX2 AVX512F AVX512_VNNI FMA, in other operations, rebuild TensorFlow with the appropriate compiler flags.\n",
      "/usr/local/python/3.12.1/lib/python3.12/site-packages/tqdm/auto.py:21: TqdmWarning: IProgress not found. Please update jupyter and ipywidgets. See https://ipywidgets.readthedocs.io/en/stable/user_install.html\n",
      "  from .autonotebook import tqdm as notebook_tqdm\n"
     ]
    }
   ],
   "source": [
    "# Imports\n",
    "import os\n",
    "import numpy as np\n",
    "import pandas as pd\n",
    "from sklearn.preprocessing import LabelEncoder\n",
    "from sklearn.model_selection import train_test_split\n",
    "from tensorflow.keras.utils import to_categorical, Sequence\n",
    "from tensorflow.keras.models import Sequential\n",
    "from tensorflow.keras.layers import Conv2D, MaxPooling2D, Flatten, Dense, Dropout\n",
    "import matplotlib.pyplot as plt\n",
    "import cv2\n",
    "from PIL import Image\n",
    "from transformers import pipeline\n"
   ]
  },
  {
   "cell_type": "markdown",
   "id": "41e90f09",
   "metadata": {},
   "source": [
    "In diesem Teil lade ich meine Metadaten aus der Datei metadata.csv und bereinige den Datensatz:\n",
    "Zuerst lese ich die CSV-Datei mit pd.read_csv() ein, die Informationen wie Bildnamen und zugehörige Marken enthält.\n",
    "Dann filtere ich alle Zeilen heraus, bei denen das dazugehörige Bild nicht im Ordner images/ vorhanden ist – das vermeidet Fehler beim späteren Training.\n",
    "Anschließend ermittle ich mit value_counts(), wie oft jede Marke im Datensatz vorkommt.\n",
    "Um sicherzustellen, dass mein Modell genug Trainingsbeispiele hat, behalte ich nur Marken bei, die mindestens 2 Bilder haben.\n",
    "Danach setze ich den Index zurück (reset_index) und bereite die Markenlabels für das Training vor:\n",
    "Dafür verwende ich LabelEncoder() aus Scikit-Learn, um die Markennamen in numerische Klassen (IDs) umzuwandeln.\n",
    "Diese numerischen Werte speichere ich in einer neuen Spalte namens brand_encoded.\n",
    "So stelle ich sicher, dass mein Datensatz sauber, konsistent und trainingsbereit ist."
   ]
  },
  {
   "cell_type": "code",
   "execution_count": 7,
   "id": "93a86b58",
   "metadata": {},
   "outputs": [],
   "source": [
    "# Load and clean metadata\n",
    "df = pd.read_csv(\"metadata.csv\")\n",
    "df = df[df[\"image_name\"].apply(lambda x: os.path.exists(os.path.join(\"images\", x)))]\n",
    "brand_counts = df[\"brand\"].value_counts()\n",
    "valid_brands = brand_counts[brand_counts >= 2].index\n",
    "df = df[df[\"brand\"].isin(valid_brands)].reset_index(drop=True)\n",
    "le = LabelEncoder()\n",
    "df[\"brand_encoded\"] = le.fit_transform(df[\"brand\"])\n"
   ]
  },
  {
   "cell_type": "markdown",
   "id": "fc08267b",
   "metadata": {},
   "source": [
    "Train/Validation Split\n",
    "Ich teile meine Daten in Trainings- und Validierungsdaten auf, um später das Modell auf unbekannten Daten testen zu können. Dafür verwende ich die Funktion train_test_split von scikit-learn. Ich setze 20 % der Daten für die Validierung ab (test_size=0.2). Außerdem sorge ich durch stratify=df[\"brand_encoded\"] dafür, dass die Verteilung der Marken in beiden Datensätzen gleich bleibt. Das bedeutet, jede Marke ist prozentual ungefähr gleich häufig in Training und Validierung vertreten. Um reproduzierbare Ergebnisse zu bekommen, setze ich einen festen Zufallswert (random_state=42). Die aufgeteilten Datensätze speichere ich als CSV-Dateien, damit ich sie später leicht laden kann."
   ]
  },
  {
   "cell_type": "code",
   "execution_count": 8,
   "id": "ef2f4119",
   "metadata": {},
   "outputs": [],
   "source": [
    "# Train/Validation split\n",
    "train_df, val_df = train_test_split(\n",
    "    df, test_size=0.2, stratify=df[\"brand_encoded\"], random_state=42\n",
    ")\n",
    "train_df.to_csv(\"train.csv\", index=False)\n",
    "val_df.to_csv(\"val.csv\", index=False)\n"
   ]
  },
  {
   "cell_type": "code",
   "execution_count": 9,
   "id": "54e01658",
   "metadata": {},
   "outputs": [
    {
     "name": "stdout",
     "output_type": "stream",
     "text": [
      "Number of classes: 64\n"
     ]
    }
   ],
   "source": [
    "# Number of classes\n",
    "num_classes = train_df[\"brand_encoded\"].nunique()\n",
    "print(\"Number of classes:\", num_classes)\n"
   ]
  },
  {
   "cell_type": "code",
   "execution_count": 10,
   "id": "3e136700",
   "metadata": {},
   "outputs": [],
   "source": [
    "# ImageDataGenerator using OpenCV\n",
    "class ImageDataGenerator(Sequence):\n",
    "    def __init__(self, df, image_folder, batch_size=32, img_size=(128, 128)):\n",
    "        self.df = df.reset_index(drop=True)\n",
    "        self.image_folder = image_folder\n",
    "        self.batch_size = batch_size\n",
    "        self.img_size = img_size\n",
    "        self.labels = df['brand_encoded'].values\n",
    "        self.image_names = df['image_name'].values\n",
    "\n",
    "    def __len__(self):\n",
    "        return int(np.ceil(len(self.df) / self.batch_size))\n",
    "\n",
    "    def __getitem__(self, idx):\n",
    "        batch_images = self.image_names[idx * self.batch_size : (idx + 1) * self.batch_size]\n",
    "        batch_labels = self.labels[idx * self.batch_size : (idx + 1) * self.batch_size]\n",
    "        images = []\n",
    "        for img_name in batch_images:\n",
    "            img_path = os.path.join(self.image_folder, img_name)\n",
    "            img = cv2.imread(img_path)\n",
    "            if img is not None:\n",
    "                img = cv2.resize(img, self.img_size) / 255.0\n",
    "                images.append(img)\n",
    "        images = np.array(images)\n",
    "        labels = to_categorical(batch_labels[:len(images)], num_classes=num_classes)\n",
    "        return images, labels\n"
   ]
  },
  {
   "cell_type": "code",
   "execution_count": 11,
   "id": "611d28ba",
   "metadata": {},
   "outputs": [],
   "source": [
    "# Initialize generators\n",
    "train_gen = ImageDataGenerator(train_df, image_folder=\"images\")\n",
    "val_gen = ImageDataGenerator(val_df, image_folder=\"images\")\n"
   ]
  },
  {
   "cell_type": "code",
   "execution_count": 12,
   "id": "b7450c51",
   "metadata": {},
   "outputs": [
    {
     "name": "stderr",
     "output_type": "stream",
     "text": [
      "/usr/local/python/3.12.1/lib/python3.12/site-packages/keras/src/layers/convolutional/base_conv.py:113: UserWarning: Do not pass an `input_shape`/`input_dim` argument to a layer. When using Sequential models, prefer using an `Input(shape)` object as the first layer in the model instead.\n",
      "  super().__init__(activity_regularizer=activity_regularizer, **kwargs)\n",
      "2025-06-02 14:14:40.249577: E external/local_xla/xla/stream_executor/cuda/cuda_platform.cc:51] failed call to cuInit: INTERNAL: CUDA error: Failed call to cuInit: UNKNOWN ERROR (303)\n"
     ]
    }
   ],
   "source": [
    "# CNN model\n",
    "model = Sequential([\n",
    "    Conv2D(32, (3, 3), activation='relu', input_shape=(128, 128, 3)),\n",
    "    MaxPooling2D(),\n",
    "    Conv2D(64, (3, 3), activation='relu'),\n",
    "    MaxPooling2D(),\n",
    "    Flatten(),\n",
    "    Dense(128, activation='relu'),\n",
    "    Dropout(0.5),\n",
    "    Dense(num_classes, activation='softmax')\n",
    "])\n",
    "model.compile(optimizer='adam', loss='categorical_crossentropy', metrics=['accuracy'])\n"
   ]
  },
  {
   "cell_type": "code",
   "execution_count": 13,
   "id": "39d0d0db",
   "metadata": {},
   "outputs": [
    {
     "name": "stderr",
     "output_type": "stream",
     "text": [
      "/usr/local/python/3.12.1/lib/python3.12/site-packages/keras/src/trainers/data_adapters/py_dataset_adapter.py:121: UserWarning: Your `PyDataset` class should call `super().__init__(**kwargs)` in its constructor. `**kwargs` can include `workers`, `use_multiprocessing`, `max_queue_size`. Do not pass these arguments to `fit()`, as they will be ignored.\n",
      "  self._warn_if_super_not_called()\n"
     ]
    },
    {
     "name": "stdout",
     "output_type": "stream",
     "text": [
      "Epoch 1/10\n",
      "\u001b[1m64/64\u001b[0m \u001b[32m━━━━━━━━━━━━━━━━━━━━\u001b[0m\u001b[37m\u001b[0m \u001b[1m21s\u001b[0m 298ms/step - accuracy: 0.0625 - loss: 4.3457 - val_accuracy: 0.2353 - val_loss: 3.2532\n",
      "Epoch 2/10\n",
      "\u001b[1m64/64\u001b[0m \u001b[32m━━━━━━━━━━━━━━━━━━━━\u001b[0m\u001b[37m\u001b[0m \u001b[1m18s\u001b[0m 272ms/step - accuracy: 0.2656 - loss: 3.0921 - val_accuracy: 0.4765 - val_loss: 2.3885\n",
      "Epoch 3/10\n",
      "\u001b[1m64/64\u001b[0m \u001b[32m━━━━━━━━━━━━━━━━━━━━\u001b[0m\u001b[37m\u001b[0m \u001b[1m17s\u001b[0m 273ms/step - accuracy: 0.4230 - loss: 2.4201 - val_accuracy: 0.5804 - val_loss: 1.8625\n",
      "Epoch 4/10\n",
      "\u001b[1m64/64\u001b[0m \u001b[32m━━━━━━━━━━━━━━━━━━━━\u001b[0m\u001b[37m\u001b[0m \u001b[1m20s\u001b[0m 270ms/step - accuracy: 0.5173 - loss: 1.8516 - val_accuracy: 0.6412 - val_loss: 1.5526\n",
      "Epoch 5/10\n",
      "\u001b[1m64/64\u001b[0m \u001b[32m━━━━━━━━━━━━━━━━━━━━\u001b[0m\u001b[37m\u001b[0m \u001b[1m17s\u001b[0m 269ms/step - accuracy: 0.5916 - loss: 1.5236 - val_accuracy: 0.6745 - val_loss: 1.3349\n",
      "Epoch 6/10\n",
      "\u001b[1m64/64\u001b[0m \u001b[32m━━━━━━━━━━━━━━━━━━━━\u001b[0m\u001b[37m\u001b[0m \u001b[1m19s\u001b[0m 292ms/step - accuracy: 0.6728 - loss: 1.1566 - val_accuracy: 0.7039 - val_loss: 1.2207\n",
      "Epoch 7/10\n",
      "\u001b[1m64/64\u001b[0m \u001b[32m━━━━━━━━━━━━━━━━━━━━\u001b[0m\u001b[37m\u001b[0m \u001b[1m17s\u001b[0m 272ms/step - accuracy: 0.6732 - loss: 1.1009 - val_accuracy: 0.7392 - val_loss: 1.1049\n",
      "Epoch 8/10\n",
      "\u001b[1m64/64\u001b[0m \u001b[32m━━━━━━━━━━━━━━━━━━━━\u001b[0m\u001b[37m\u001b[0m \u001b[1m17s\u001b[0m 270ms/step - accuracy: 0.7475 - loss: 0.8390 - val_accuracy: 0.7588 - val_loss: 1.0608\n",
      "Epoch 9/10\n",
      "\u001b[1m64/64\u001b[0m \u001b[32m━━━━━━━━━━━━━━━━━━━━\u001b[0m\u001b[37m\u001b[0m \u001b[1m17s\u001b[0m 270ms/step - accuracy: 0.7788 - loss: 0.7341 - val_accuracy: 0.7804 - val_loss: 0.9708\n",
      "Epoch 10/10\n",
      "\u001b[1m64/64\u001b[0m \u001b[32m━━━━━━━━━━━━━━━━━━━━\u001b[0m\u001b[37m\u001b[0m \u001b[1m17s\u001b[0m 270ms/step - accuracy: 0.8080 - loss: 0.6676 - val_accuracy: 0.7922 - val_loss: 0.9866\n"
     ]
    }
   ],
   "source": [
    "# Train the model\n",
    "history = model.fit(train_gen, validation_data=val_gen, epochs=10)\n"
   ]
  },
  {
   "cell_type": "code",
   "execution_count": 14,
   "id": "63586447",
   "metadata": {},
   "outputs": [
    {
     "name": "stdout",
     "output_type": "stream",
     "text": [
      "\u001b[1m16/16\u001b[0m \u001b[32m━━━━━━━━━━━━━━━━━━━━\u001b[0m\u001b[37m\u001b[0m \u001b[1m2s\u001b[0m 91ms/step - accuracy: 0.8095 - loss: 0.9528\n",
      "Validation Accuracy: 79.22 %\n"
     ]
    },
    {
     "data": {
      "image/png": "[encoded data removed]",
      "text/plain": [
       "<Figure size 640x480 with 1 Axes>"
      ]
     },
     "metadata": {},
     "output_type": "display_data"
    }
   ],
   "source": [
    "# Evaluate and plot\n",
    "loss, acc = model.evaluate(val_gen)\n",
    "print(\"Validation Accuracy:\", round(acc * 100, 2), \"%\")\n",
    "\n",
    "plt.plot(history.history['accuracy'], label='Train Accuracy')\n",
    "plt.plot(history.history['val_accuracy'], label='Val Accuracy')\n",
    "plt.legend()\n",
    "plt.title(\"Training History\")\n",
    "plt.show()\n"
   ]
  },
  {
   "cell_type": "code",
   "execution_count": 15,
   "id": "d5e0642e",
   "metadata": {},
   "outputs": [
    {
     "name": "stderr",
     "output_type": "stream",
     "text": [
      "Using a slow image processor as `use_fast` is unset and a slow processor was saved with this model. `use_fast=True` will be the default behavior in v4.52, even if the model was saved with a slow processor. This will result in minor differences in outputs. You'll still be able to use a slow processor with `use_fast=False`.\n",
      "Device set to use cpu\n"
     ]
    }
   ],
   "source": [
    "# Zero-shot classification using CLIP\n",
    "zero_shot_detector = pipeline(model=\"openai/clip-vit-large-patch14\", task=\"zero-shot-image-classification\")\n"
   ]
  },
  {
   "cell_type": "code",
   "execution_count": 16,
   "id": "a654514a",
   "metadata": {},
   "outputs": [
    {
     "name": "stderr",
     "output_type": "stream",
     "text": [
      "WARNING:absl:The `save_format` argument is deprecated in Keras 3. We recommend removing this argument as it can be inferred from the file path. Received: save_format=h5\n",
      "WARNING:absl:You are saving your model as an HDF5 file via `model.save()` or `keras.saving.save_model(model)`. This file format is considered legacy. We recommend using instead the native Keras format, e.g. `model.save('my_model.keras')` or `keras.saving.save_model(model, 'my_model.keras')`. \n"
     ]
    }
   ],
   "source": [
    "model.save(\"watch_brand_classifier.h5\", save_format='h5')\n"
   ]
  },
  {
   "cell_type": "code",
   "execution_count": 17,
   "id": "06b081ea",
   "metadata": {},
   "outputs": [
    {
     "name": "stdout",
     "output_type": "stream",
     "text": [
      "True: Cluse, Predicted: Cluse, Score: 1.00\n",
      "True: Daniel Wellington, Predicted: Daniel Wellington, Score: 1.00\n",
      "True: Swatch, Predicted: Swatch, Score: 0.98\n",
      "True: VERSUS Versace, Predicted: Versace, Score: 0.57\n",
      "True: Nixon, Predicted: iConnect By Timex, Score: 0.95\n"
     ]
    }
   ],
   "source": [
    "# Run zero-shot on a few images\n",
    "candidate_labels = train_df['brand'].unique().tolist()\n",
    "sample_df = val_df.sample(5, random_state=42)\n",
    "\n",
    "for _, row in sample_df.iterrows():\n",
    "    img_path = os.path.join(\"images\", row[\"image_name\"])\n",
    "    image = Image.open(img_path).convert(\"RGB\")\n",
    "    result = zero_shot_detector(image, candidate_labels=candidate_labels)\n",
    "    print(f\"True: {row['brand']}, Predicted: {result[0]['label']}, Score: {result[0]['score']:.2f}\")\n"
   ]
  },
  {
   "cell_type": "code",
   "execution_count": 18,
   "id": "ec07c466",
   "metadata": {},
   "outputs": [
    {
     "name": "stdout",
     "output_type": "stream",
     "text": [
      "3.10.0\n"
     ]
    }
   ],
   "source": [
    "import keras\n",
    "print(keras.__version__)"
   ]
  },
  {
   "cell_type": "code",
   "execution_count": 19,
   "id": "87e41dd2",
   "metadata": {},
   "outputs": [
    {
     "data": {
      "text/plain": [
       "['class_names.pkl']"
      ]
     },
     "execution_count": 19,
     "metadata": {},
     "output_type": "execute_result"
    }
   ],
   "source": [
    "import joblib\n",
    "joblib.dump(le.classes_, \"class_names.pkl\")"
   ]
  }
 ],
 "metadata": {
  "kernelspec": {
   "display_name": "Python 3",
   "language": "python",
   "name": "python3"
  },
  "language_info": {
   "codemirror_mode": {
    "name": "ipython",
    "version": 3
   },
   "file_extension": ".py",
   "mimetype": "text/x-python",
   "name": "python",
   "nbconvert_exporter": "python",
   "pygments_lexer": "ipython3",
   "version": "3.12.1"
  }
 },
 "nbformat": 4,
 "nbformat_minor": 5
}
